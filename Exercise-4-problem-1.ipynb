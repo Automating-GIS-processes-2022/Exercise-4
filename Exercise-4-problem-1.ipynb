{
 "cells": [
  {
   "cell_type": "markdown",
   "metadata": {
    "deletable": false,
    "editable": false
   },
   "source": [
    "## Problem 1: Join accessibility datasets into a grid and visualise the data on a map (10 points)\n",
    "\n",
    "![P1 example result](images/travel_times_example_720x720px.png)\n",
    "\n",
    "*Sample result: Travel times by public transport (PT) and car to Itis and Myyrmanni*\n",
    "\n",
    "Your task in *problem 1* is to combine data from non-spatial data sets (travel times between places)\n",
    "and a spatial data set (grid cells that represent the places), and plot the combined data set to\n",
    "visualise the travel times to two shopping centres from every other place in the Helsinki metropolitan\n",
    "area. "
   ]
  },
  {
   "cell_type": "markdown",
   "metadata": {
    "deletable": false,
    "editable": false
   },
   "source": [
    "In particular, this task comprises of three major steps:\n",
    "\n",
    "1. Read the grid cell data set\n",
    "2. Read a travel time data set,\n",
    "    - discard unnecessary columns,\n",
    "    - rename the relevant columns to include a reference to the respective shopping centre,\n",
    "    - join the relevant columns to the grid data set\n",
    "3. Classify the travel times for both travel modes (public transport and private car) into five-minute intervals \n",
    "\n",
    "Repeat the second step for each of the two shopping centres (Itis, Myyrmanni)."
   ]
  },
  {
   "cell_type": "markdown",
   "metadata": {
    "deletable": false,
    "editable": false,
    "jp-MarkdownHeadingCollapsed": true,
    "tags": []
   },
   "source": [
    "\n",
    "---\n",
    "\n",
    "### a) Read the grid cell data set\n",
    "\n",
    "The grid cells are derived from the ‘YKR’ data set, that is [published by the Finnish Environmental Institute\n",
    "(SYKE)](https://www.ymparisto.fi/fi-fi/elinymparisto_ja_kaavoitus/yhdyskuntarakenne/tietoa_yhdyskuntarakenteesta/yhdyskuntarakenteen_seurannan_aineistot)\n",
    "and collects a variety of indicators relating to the social and built-up structure of the country. In\n",
    "an effort to harmonise different data products of other institutions, the YKR grid cell data set has\n",
    "become a reference for many data products, including, for instance, the [travel time data set produced\n",
    "at the Digital Geography Lab](https://blogs.helsinki.fi/accessibility/helsinki-region-travel-time-matrix/).\n",
    "\n",
    "You can find the YKR data set in the directory `data` in *GeoPackage* format: `YKR_grid_EPSG3067.gpkg`.\n",
    "It contains a polygon geometry column, and an (integer) identifier: `YKR_ID`.\n",
    "\n",
    "Load the data into a `geopandas.GeoDataFrame` and call it `grid`."
   ]
  },
  {
   "cell_type": "code",
   "execution_count": 1,
   "metadata": {
    "deletable": false,
    "editable": false
   },
   "outputs": [],
   "source": [
    "import pathlib \n",
    "NOTEBOOK_PATH = pathlib.Path().resolve()\n",
    "DATA_DIRECTORY = NOTEBOOK_PATH / \"data\""
   ]
  },
  {
   "cell_type": "code",
   "execution_count": 2,
   "metadata": {},
   "outputs": [
    {
     "data": {
      "text/html": [
       "<div>\n",
       "<style scoped>\n",
       "    .dataframe tbody tr th:only-of-type {\n",
       "        vertical-align: middle;\n",
       "    }\n",
       "\n",
       "    .dataframe tbody tr th {\n",
       "        vertical-align: top;\n",
       "    }\n",
       "\n",
       "    .dataframe thead th {\n",
       "        text-align: right;\n",
       "    }\n",
       "</style>\n",
       "<table border=\"1\" class=\"dataframe\">\n",
       "  <thead>\n",
       "    <tr style=\"text-align: right;\">\n",
       "      <th></th>\n",
       "      <th>geometry</th>\n",
       "    </tr>\n",
       "    <tr>\n",
       "      <th>YKR_ID</th>\n",
       "      <th></th>\n",
       "    </tr>\n",
       "  </thead>\n",
       "  <tbody>\n",
       "    <tr>\n",
       "      <th>5785640</th>\n",
       "      <td>POLYGON ((382000.000 6697750.000, 381750.000 6...</td>\n",
       "    </tr>\n",
       "    <tr>\n",
       "      <th>5785641</th>\n",
       "      <td>POLYGON ((382250.000 6697750.000, 382000.000 6...</td>\n",
       "    </tr>\n",
       "    <tr>\n",
       "      <th>5785642</th>\n",
       "      <td>POLYGON ((382500.000 6697750.000, 382250.000 6...</td>\n",
       "    </tr>\n",
       "    <tr>\n",
       "      <th>5785643</th>\n",
       "      <td>POLYGON ((382750.000 6697750.000, 382500.000 6...</td>\n",
       "    </tr>\n",
       "    <tr>\n",
       "      <th>5787544</th>\n",
       "      <td>POLYGON ((381250.000 6697500.000, 381000.000 6...</td>\n",
       "    </tr>\n",
       "  </tbody>\n",
       "</table>\n",
       "</div>"
      ],
      "text/plain": [
       "                                                  geometry\n",
       "YKR_ID                                                    \n",
       "5785640  POLYGON ((382000.000 6697750.000, 381750.000 6...\n",
       "5785641  POLYGON ((382250.000 6697750.000, 382000.000 6...\n",
       "5785642  POLYGON ((382500.000 6697750.000, 382250.000 6...\n",
       "5785643  POLYGON ((382750.000 6697750.000, 382500.000 6...\n",
       "5787544  POLYGON ((381250.000 6697500.000, 381000.000 6..."
      ]
     },
     "execution_count": 2,
     "metadata": {},
     "output_type": "execute_result"
    }
   ],
   "source": [
    "# ADD YOUR OWN CODE HERE\n"
   ]
  },
  {
   "cell_type": "markdown",
   "metadata": {
    "deletable": false,
    "editable": false,
    "jp-MarkdownHeadingCollapsed": true,
    "tags": []
   },
   "source": [
    "\n",
    "---\n",
    "\n",
    "### b) Read the travel time data sets and join them to the grid cells\n",
    "\n",
    "Inside the `data` directory, you will find a set of semicolon-separated text files with travel times \n",
    "to each of a set of shopping centres in the Helsinki region (*this exercise was conceived before\n",
    "REDI and Tripla started operation*).\n",
    "\n",
    "The individual files have file names following the schema `travel_times_to_[XXXXX]_[Shopping_Centre]`, where\n",
    "`[Shopping_Centre]` is the name of one of the seven shopping centres included in the data set, and `[XXXXX]`,\n",
    "coincidently, referring to the YKR grid cell in which the shopping centre is located (although you should not\n",
    "need to use this ID in this exercise).\n",
    "\n",
    "The data sets contain computed travel times between different places in the metropolitan area. In order to \n",
    "produce such a *travel time matrix*, all connections from all origins to all destinations are calculated,\n",
    "and then recorded in a table. \n",
    "\n",
    "#### Columns\n",
    "\n",
    "The data sets we use have many **columns**, but only a few are interesting for this task:\n",
    "\n",
    "- `from_id`: the `YKR_ID` of the *origin* grid cell\n",
    "- `to_id`: refers to the `YKR_ID` of the *destination* grid cell (here: the one containing the shopping centre).\n",
    "- `pt_r_t`: how long does it take to travel from `from_id` to `to_id`, in minutes, using public transport?\n",
    "- `car_r_t`: how long does it take to drive a car from `from_id` to `to_id`, in minutes?\n",
    "\n",
    "Note that `from_id` and `to_id` relate to the YKR `grid` data set’s `YKR_ID` column. Each input data set has only\n",
    "one unique `to_id`, as the data has been split up to relate to one destination (a shopping centre), only, but many\n",
    "unique values for `from_id`, as it covers the travel times from anywhere in the metropolitan area.\n",
    "\n",
    "#### No-data values\n",
    "\n",
    "The travel time data set contains some origin-destination pairs (*O/D-pairs*) for which it could not find a\n",
    "public transport connection, or which are not accessible by car. Such **no-data values** are saves as \n",
    "`-1` minutes travel time. Use the [`pandas.Series.replace()`](https://pandas.pydata.org/docs/reference/api/pandas.Series.replace.html)\n",
    "method to replace `-1` with `numpy.nan` to indicate that these cells do not contain valid data.\n",
    "\n",
    "\n",
    "**IMPORTANT**: While we are having this course, a bug (https://github.com/pandas-dev/pandas/issues/45725)\n",
    "prevents `pandas.Series.replace()` from working as expected: the line `travel_times[\"car_r_t\"] = travel_times[\"car_r_t\"].replace(-1, numpy.nan)`\n",
    "fails with a `RecursionError`. There is a workaround: using an alternative syntax, using a `dict` of *before*\n",
    "and *after* values, similar to how `pandas.DataFrame.rename()` works, does not trigger the issue. \n",
    "`travel_times[\"car_r_t\"] = travel_times[\"car_r_t\"].replace({-1: numpy.nan})` works.\n",
    "\n",
    "---\n",
    "\n",
    "Read the data sets for the shopping centres ‘Itis’ and ‘Myyrmanni’, discard irrelevant columns, rename the\n",
    "`pt_r_t` and `car_r_t` columns to include a reference to the shopping centre (e.g., into `pt_r_t_Itis`), and join\n",
    "the renamed columns to the `grid` data frame. Don’t forget to replace no-data values (`-1`) with `None`."
   ]
  },
  {
   "cell_type": "code",
   "execution_count": 3,
   "metadata": {},
   "outputs": [
    {
     "data": {
      "text/html": [
       "<div>\n",
       "<style scoped>\n",
       "    .dataframe tbody tr th:only-of-type {\n",
       "        vertical-align: middle;\n",
       "    }\n",
       "\n",
       "    .dataframe tbody tr th {\n",
       "        vertical-align: top;\n",
       "    }\n",
       "\n",
       "    .dataframe thead th {\n",
       "        text-align: right;\n",
       "    }\n",
       "</style>\n",
       "<table border=\"1\" class=\"dataframe\">\n",
       "  <thead>\n",
       "    <tr style=\"text-align: right;\">\n",
       "      <th></th>\n",
       "      <th>geometry</th>\n",
       "      <th>car_r_t_Itis</th>\n",
       "      <th>pt_r_t_Itis</th>\n",
       "      <th>car_r_t_Myyrmanni</th>\n",
       "      <th>pt_r_t_Myyrmanni</th>\n",
       "    </tr>\n",
       "    <tr>\n",
       "      <th>YKR_ID</th>\n",
       "      <th></th>\n",
       "      <th></th>\n",
       "      <th></th>\n",
       "      <th></th>\n",
       "      <th></th>\n",
       "    </tr>\n",
       "  </thead>\n",
       "  <tbody>\n",
       "    <tr>\n",
       "      <th>5785640</th>\n",
       "      <td>POLYGON ((382000.000 6697750.000, 381750.000 6...</td>\n",
       "      <td>50.0</td>\n",
       "      <td>132.0</td>\n",
       "      <td>39.0</td>\n",
       "      <td>90.0</td>\n",
       "    </tr>\n",
       "    <tr>\n",
       "      <th>5785641</th>\n",
       "      <td>POLYGON ((382250.000 6697750.000, 382000.000 6...</td>\n",
       "      <td>51.0</td>\n",
       "      <td>135.0</td>\n",
       "      <td>39.0</td>\n",
       "      <td>93.0</td>\n",
       "    </tr>\n",
       "    <tr>\n",
       "      <th>5785642</th>\n",
       "      <td>POLYGON ((382500.000 6697750.000, 382250.000 6...</td>\n",
       "      <td>58.0</td>\n",
       "      <td>137.0</td>\n",
       "      <td>47.0</td>\n",
       "      <td>95.0</td>\n",
       "    </tr>\n",
       "    <tr>\n",
       "      <th>5785643</th>\n",
       "      <td>POLYGON ((382750.000 6697750.000, 382500.000 6...</td>\n",
       "      <td>57.0</td>\n",
       "      <td>141.0</td>\n",
       "      <td>51.0</td>\n",
       "      <td>99.0</td>\n",
       "    </tr>\n",
       "    <tr>\n",
       "      <th>5787544</th>\n",
       "      <td>POLYGON ((381250.000 6697500.000, 381000.000 6...</td>\n",
       "      <td>50.0</td>\n",
       "      <td>125.0</td>\n",
       "      <td>38.0</td>\n",
       "      <td>83.0</td>\n",
       "    </tr>\n",
       "  </tbody>\n",
       "</table>\n",
       "</div>"
      ],
      "text/plain": [
       "                                                  geometry  car_r_t_Itis  \\\n",
       "YKR_ID                                                                     \n",
       "5785640  POLYGON ((382000.000 6697750.000, 381750.000 6...          50.0   \n",
       "5785641  POLYGON ((382250.000 6697750.000, 382000.000 6...          51.0   \n",
       "5785642  POLYGON ((382500.000 6697750.000, 382250.000 6...          58.0   \n",
       "5785643  POLYGON ((382750.000 6697750.000, 382500.000 6...          57.0   \n",
       "5787544  POLYGON ((381250.000 6697500.000, 381000.000 6...          50.0   \n",
       "\n",
       "         pt_r_t_Itis  car_r_t_Myyrmanni  pt_r_t_Myyrmanni  \n",
       "YKR_ID                                                     \n",
       "5785640        132.0               39.0              90.0  \n",
       "5785641        135.0               39.0              93.0  \n",
       "5785642        137.0               47.0              95.0  \n",
       "5785643        141.0               51.0              99.0  \n",
       "5787544        125.0               38.0              83.0  "
      ]
     },
     "execution_count": 3,
     "metadata": {},
     "output_type": "execute_result"
    }
   ],
   "source": [
    "# ADD YOUR OWN CODE HERE\n"
   ]
  },
  {
   "cell_type": "code",
   "execution_count": 4,
   "metadata": {
    "deletable": false,
    "editable": false
   },
   "outputs": [],
   "source": [
    "# NON-EDITABLE TEST CELL\n",
    "import geopandas\n",
    "assert type(grid) == geopandas.geodataframe.GeoDataFrame, \"Output should be a geodataframe.\""
   ]
  },
  {
   "cell_type": "code",
   "execution_count": 5,
   "metadata": {
    "deletable": false,
    "editable": false
   },
   "outputs": [],
   "source": [
    "# NON-EDITABLE TEST CELL\n",
    "# Check that the merged output have (at least) the necessary columns\n",
    "required_columns = ['pt_r_t_Itis', 'car_r_t_Itis', 'pt_r_t_Myyrmanni', 'car_r_t_Myyrmanni', 'geometry']\n",
    "\n",
    "assert all(column in grid.columns for column in required_columns), \"Couldn’t find all required columns.\""
   ]
  },
  {
   "cell_type": "code",
   "execution_count": 6,
   "metadata": {
    "deletable": false,
    "editable": false
   },
   "outputs": [],
   "source": [
    "# NON-EDITABLE TEST CELL\n",
    "# Check that -1 values are not present in the columns\n",
    "for shopping_centre in (\"Itis\", \"Myyrmanni\"):\n",
    "    for column in (\"car_r_t\", \"pt_r_t\"):\n",
    "        assert -1 not in grid[f\"{column}_{shopping_centre}\"], \"NoData values (-1) should be removed from the data!\""
   ]
  },
  {
   "cell_type": "markdown",
   "metadata": {
    "deletable": false,
    "editable": false,
    "jp-MarkdownHeadingCollapsed": true,
    "tags": []
   },
   "source": [
    "\n",
    "---\n",
    "\n",
    "### c) Classify the travel times into five-minute intervals \n",
    "\n",
    "Classify the travel times for both travel modes (public transport and private car) into five-minute intervals \n",
    "- Create a **[`mapclassify.UserDefined` classifier](https://github.com/pysal/mapclassify#userdefined)**,\n",
    "  using these class breaks: `5, 10, 15, 20, 25, 30, 35, 40, 45, 50, 55, 60`\n",
    "- Apply the classifier to `pt_r_t_[ShoppingCentre]` and `car_r_t_[ShoppingCentre]` columns,\n",
    "  and store the results to `pt_r_t_cl_[ShoppingCentre]` and `car_r_t_cl_[ShoppingCentre]` columns, respectively\n",
    "\n",
    "*Note that these 12 class breaks will produce 13 classes (1 class break divides the data into two classes)*"
   ]
  },
  {
   "cell_type": "code",
   "execution_count": 7,
   "metadata": {},
   "outputs": [
    {
     "data": {
      "text/html": [
       "<div>\n",
       "<style scoped>\n",
       "    .dataframe tbody tr th:only-of-type {\n",
       "        vertical-align: middle;\n",
       "    }\n",
       "\n",
       "    .dataframe tbody tr th {\n",
       "        vertical-align: top;\n",
       "    }\n",
       "\n",
       "    .dataframe thead th {\n",
       "        text-align: right;\n",
       "    }\n",
       "</style>\n",
       "<table border=\"1\" class=\"dataframe\">\n",
       "  <thead>\n",
       "    <tr style=\"text-align: right;\">\n",
       "      <th></th>\n",
       "      <th>geometry</th>\n",
       "      <th>car_r_t_Itis</th>\n",
       "      <th>pt_r_t_Itis</th>\n",
       "      <th>car_r_t_Myyrmanni</th>\n",
       "      <th>pt_r_t_Myyrmanni</th>\n",
       "      <th>car_r_t_cl_Itis</th>\n",
       "      <th>pt_r_t_cl_Itis</th>\n",
       "      <th>car_r_t_cl_Myyrmanni</th>\n",
       "      <th>pt_r_t_cl_Myyrmanni</th>\n",
       "    </tr>\n",
       "    <tr>\n",
       "      <th>YKR_ID</th>\n",
       "      <th></th>\n",
       "      <th></th>\n",
       "      <th></th>\n",
       "      <th></th>\n",
       "      <th></th>\n",
       "      <th></th>\n",
       "      <th></th>\n",
       "      <th></th>\n",
       "      <th></th>\n",
       "    </tr>\n",
       "  </thead>\n",
       "  <tbody>\n",
       "    <tr>\n",
       "      <th>5785640</th>\n",
       "      <td>POLYGON ((382000.000 6697750.000, 381750.000 6...</td>\n",
       "      <td>50.0</td>\n",
       "      <td>132.0</td>\n",
       "      <td>39.0</td>\n",
       "      <td>90.0</td>\n",
       "      <td>9</td>\n",
       "      <td>12</td>\n",
       "      <td>7</td>\n",
       "      <td>12</td>\n",
       "    </tr>\n",
       "    <tr>\n",
       "      <th>5785641</th>\n",
       "      <td>POLYGON ((382250.000 6697750.000, 382000.000 6...</td>\n",
       "      <td>51.0</td>\n",
       "      <td>135.0</td>\n",
       "      <td>39.0</td>\n",
       "      <td>93.0</td>\n",
       "      <td>10</td>\n",
       "      <td>12</td>\n",
       "      <td>7</td>\n",
       "      <td>12</td>\n",
       "    </tr>\n",
       "    <tr>\n",
       "      <th>5785642</th>\n",
       "      <td>POLYGON ((382500.000 6697750.000, 382250.000 6...</td>\n",
       "      <td>58.0</td>\n",
       "      <td>137.0</td>\n",
       "      <td>47.0</td>\n",
       "      <td>95.0</td>\n",
       "      <td>11</td>\n",
       "      <td>12</td>\n",
       "      <td>9</td>\n",
       "      <td>12</td>\n",
       "    </tr>\n",
       "    <tr>\n",
       "      <th>5785643</th>\n",
       "      <td>POLYGON ((382750.000 6697750.000, 382500.000 6...</td>\n",
       "      <td>57.0</td>\n",
       "      <td>141.0</td>\n",
       "      <td>51.0</td>\n",
       "      <td>99.0</td>\n",
       "      <td>11</td>\n",
       "      <td>12</td>\n",
       "      <td>10</td>\n",
       "      <td>12</td>\n",
       "    </tr>\n",
       "    <tr>\n",
       "      <th>5787544</th>\n",
       "      <td>POLYGON ((381250.000 6697500.000, 381000.000 6...</td>\n",
       "      <td>50.0</td>\n",
       "      <td>125.0</td>\n",
       "      <td>38.0</td>\n",
       "      <td>83.0</td>\n",
       "      <td>9</td>\n",
       "      <td>12</td>\n",
       "      <td>7</td>\n",
       "      <td>12</td>\n",
       "    </tr>\n",
       "  </tbody>\n",
       "</table>\n",
       "</div>"
      ],
      "text/plain": [
       "                                                  geometry  car_r_t_Itis  \\\n",
       "YKR_ID                                                                     \n",
       "5785640  POLYGON ((382000.000 6697750.000, 381750.000 6...          50.0   \n",
       "5785641  POLYGON ((382250.000 6697750.000, 382000.000 6...          51.0   \n",
       "5785642  POLYGON ((382500.000 6697750.000, 382250.000 6...          58.0   \n",
       "5785643  POLYGON ((382750.000 6697750.000, 382500.000 6...          57.0   \n",
       "5787544  POLYGON ((381250.000 6697500.000, 381000.000 6...          50.0   \n",
       "\n",
       "         pt_r_t_Itis  car_r_t_Myyrmanni  pt_r_t_Myyrmanni  car_r_t_cl_Itis  \\\n",
       "YKR_ID                                                                       \n",
       "5785640        132.0               39.0              90.0                9   \n",
       "5785641        135.0               39.0              93.0               10   \n",
       "5785642        137.0               47.0              95.0               11   \n",
       "5785643        141.0               51.0              99.0               11   \n",
       "5787544        125.0               38.0              83.0                9   \n",
       "\n",
       "         pt_r_t_cl_Itis  car_r_t_cl_Myyrmanni  pt_r_t_cl_Myyrmanni  \n",
       "YKR_ID                                                              \n",
       "5785640              12                     7                   12  \n",
       "5785641              12                     7                   12  \n",
       "5785642              12                     9                   12  \n",
       "5785643              12                    10                   12  \n",
       "5787544              12                     7                   12  "
      ]
     },
     "execution_count": 7,
     "metadata": {},
     "output_type": "execute_result"
    }
   ],
   "source": [
    "# ADD YOUR OWN CODE HERE\n"
   ]
  },
  {
   "cell_type": "code",
   "execution_count": 8,
   "metadata": {
    "deletable": false,
    "editable": false
   },
   "outputs": [
    {
     "name": "stdout",
     "output_type": "stream",
     "text": [
      "travel times by public transport:\n"
     ]
    },
    {
     "data": {
      "text/html": [
       "<div>\n",
       "<style scoped>\n",
       "    .dataframe tbody tr th:only-of-type {\n",
       "        vertical-align: middle;\n",
       "    }\n",
       "\n",
       "    .dataframe tbody tr th {\n",
       "        vertical-align: top;\n",
       "    }\n",
       "\n",
       "    .dataframe thead th {\n",
       "        text-align: right;\n",
       "    }\n",
       "</style>\n",
       "<table border=\"1\" class=\"dataframe\">\n",
       "  <thead>\n",
       "    <tr style=\"text-align: right;\">\n",
       "      <th></th>\n",
       "      <th>pt_r_t_Itis</th>\n",
       "      <th>pt_r_t_cl_Itis</th>\n",
       "    </tr>\n",
       "    <tr>\n",
       "      <th>YKR_ID</th>\n",
       "      <th></th>\n",
       "      <th></th>\n",
       "    </tr>\n",
       "  </thead>\n",
       "  <tbody>\n",
       "    <tr>\n",
       "      <th>5785640</th>\n",
       "      <td>132.0</td>\n",
       "      <td>12</td>\n",
       "    </tr>\n",
       "    <tr>\n",
       "      <th>5785641</th>\n",
       "      <td>135.0</td>\n",
       "      <td>12</td>\n",
       "    </tr>\n",
       "    <tr>\n",
       "      <th>5785642</th>\n",
       "      <td>137.0</td>\n",
       "      <td>12</td>\n",
       "    </tr>\n",
       "    <tr>\n",
       "      <th>5785643</th>\n",
       "      <td>141.0</td>\n",
       "      <td>12</td>\n",
       "    </tr>\n",
       "    <tr>\n",
       "      <th>5787544</th>\n",
       "      <td>125.0</td>\n",
       "      <td>12</td>\n",
       "    </tr>\n",
       "  </tbody>\n",
       "</table>\n",
       "</div>"
      ],
      "text/plain": [
       "         pt_r_t_Itis  pt_r_t_cl_Itis\n",
       "YKR_ID                              \n",
       "5785640        132.0              12\n",
       "5785641        135.0              12\n",
       "5785642        137.0              12\n",
       "5785643        141.0              12\n",
       "5787544        125.0              12"
      ]
     },
     "execution_count": 8,
     "metadata": {},
     "output_type": "execute_result"
    }
   ],
   "source": [
    "# NON-EDITABLE TEST CELL\n",
    "# Check the output\n",
    "print(\"travel times by public transport:\")\n",
    "grid[['pt_r_t_Itis', 'pt_r_t_cl_Itis']].head()"
   ]
  },
  {
   "cell_type": "code",
   "execution_count": 9,
   "metadata": {
    "deletable": false,
    "editable": false
   },
   "outputs": [
    {
     "name": "stdout",
     "output_type": "stream",
     "text": [
      "Travel times by car:\n"
     ]
    },
    {
     "data": {
      "text/html": [
       "<div>\n",
       "<style scoped>\n",
       "    .dataframe tbody tr th:only-of-type {\n",
       "        vertical-align: middle;\n",
       "    }\n",
       "\n",
       "    .dataframe tbody tr th {\n",
       "        vertical-align: top;\n",
       "    }\n",
       "\n",
       "    .dataframe thead th {\n",
       "        text-align: right;\n",
       "    }\n",
       "</style>\n",
       "<table border=\"1\" class=\"dataframe\">\n",
       "  <thead>\n",
       "    <tr style=\"text-align: right;\">\n",
       "      <th></th>\n",
       "      <th>car_r_t_Myyrmanni</th>\n",
       "      <th>car_r_t_cl_Myyrmanni</th>\n",
       "    </tr>\n",
       "    <tr>\n",
       "      <th>YKR_ID</th>\n",
       "      <th></th>\n",
       "      <th></th>\n",
       "    </tr>\n",
       "  </thead>\n",
       "  <tbody>\n",
       "    <tr>\n",
       "      <th>5785640</th>\n",
       "      <td>39.0</td>\n",
       "      <td>7</td>\n",
       "    </tr>\n",
       "    <tr>\n",
       "      <th>5785641</th>\n",
       "      <td>39.0</td>\n",
       "      <td>7</td>\n",
       "    </tr>\n",
       "    <tr>\n",
       "      <th>5785642</th>\n",
       "      <td>47.0</td>\n",
       "      <td>9</td>\n",
       "    </tr>\n",
       "    <tr>\n",
       "      <th>5785643</th>\n",
       "      <td>51.0</td>\n",
       "      <td>10</td>\n",
       "    </tr>\n",
       "    <tr>\n",
       "      <th>5787544</th>\n",
       "      <td>38.0</td>\n",
       "      <td>7</td>\n",
       "    </tr>\n",
       "  </tbody>\n",
       "</table>\n",
       "</div>"
      ],
      "text/plain": [
       "         car_r_t_Myyrmanni  car_r_t_cl_Myyrmanni\n",
       "YKR_ID                                          \n",
       "5785640               39.0                     7\n",
       "5785641               39.0                     7\n",
       "5785642               47.0                     9\n",
       "5785643               51.0                    10\n",
       "5787544               38.0                     7"
      ]
     },
     "execution_count": 9,
     "metadata": {},
     "output_type": "execute_result"
    }
   ],
   "source": [
    "# NON-EDITABLE TEST CELL\n",
    "# Check the output\n",
    "print(\"Travel times by car:\")\n",
    "grid[[\"car_r_t_Myyrmanni\", \"car_r_t_cl_Myyrmanni\"]].head()"
   ]
  },
  {
   "cell_type": "markdown",
   "metadata": {
    "deletable": false,
    "editable": false,
    "jp-MarkdownHeadingCollapsed": true,
    "tags": []
   },
   "source": [
    "### d) Plot the classified travel times\n",
    "\n",
    "Create a 2⨉2 plot, in which you plot the *classified* travel times by public transport (left) and by car (right),\n",
    "to Itis (top) and Myyrmanni (bottom):\n",
    "\n",
    "- [Create subplots using `matplotlib.pyplot.subplots()`](https://geo-python-site.readthedocs.io/en/latest/notebooks/L7/advanced-plotting.html#using-subplots),\n",
    "  with 2 rows and 2 columns. Increase the figure size to 10⨉10\"\n",
    "- Add appropriate titles for the subplots\n",
    "- Save the figure to a file called `shopping_centre_accessibility.png` in the `DATA_DIRECTORY`\n"
   ]
  },
  {
   "cell_type": "code",
   "execution_count": 13,
   "metadata": {},
   "outputs": [
    {
     "data": {
      "image/png": "[encoded data removed]",
      "text/plain": [
       "<Figure size 700x700 with 4 Axes>"
      ]
     },
     "metadata": {},
     "output_type": "display_data"
    }
   ],
   "source": [
    "# ADD YOUR OWN CODE HERE\n"
   ]
  },
  {
   "cell_type": "code",
   "execution_count": 11,
   "metadata": {
    "deletable": false,
    "editable": false
   },
   "outputs": [],
   "source": [
    "# NON-EDITABLE TEST CELL\n",
    "# Check that output figure file exists\n",
    "assert (DATA_DIRECTORY / \"shopping_centre_accessibility.png\").exists()"
   ]
  },
  {
   "cell_type": "markdown",
   "metadata": {
    "deletable": false,
    "editable": false
   },
   "source": [
    "\n",
    "---\n",
    "\n",
    "**Finally**, check that you have provided adequate comments in your code.\n",
    "\n",
    "---\n",
    "\n",
    "### Reflections\n",
    "\n",
    "If you want to ask feedback on spesific parts of your code, please leave your comment here"
   ]
  },
  {
   "cell_type": "markdown",
   "metadata": {
    "deletable": false,
    "editable": false
   },
   "source": [
    "\n",
    "---\n",
    "\n",
    "### Done!\n",
    "\n",
    "**Remember to commit the output figure** to your exercise repository!\n",
    "\n",
    "That’s! Once you have plotted the data and saved the output, you are ready to proceed to *problem 2*."
   ]
  }
 ],
 "metadata": {
  "anaconda-cloud": {},
  "kernelspec": {
   "display_name": "Python 3 (ipykernel)",
   "language": "python",
   "name": "python3"
  },
  "language_info": {
   "codemirror_mode": {
    "name": "ipython",
    "version": 3
   },
   "file_extension": ".py",
   "mimetype": "text/x-python",
   "name": "python",
   "nbconvert_exporter": "python",
   "pygments_lexer": "ipython3",
   "version": "3.10.8"
  }
 },
 "nbformat": 4,
 "nbformat_minor": 4
}
